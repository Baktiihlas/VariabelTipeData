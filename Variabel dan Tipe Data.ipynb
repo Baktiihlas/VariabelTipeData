{
 "cells": [
  {
   "cell_type": "markdown",
   "id": "d660fed9",
   "metadata": {},
   "source": [
    "<h1>Variable dan Tipe Data Python</h1><hr>\n",
    "<font color=\"purple\">Beberapa</font> aturan pembuatan variabel di <b>Python</b>:"
   ]
  },
  {
   "cell_type": "markdown",
   "id": "4ee7b498",
   "metadata": {},
   "source": [
    "<ol>\n",
    "    <li>Bersifat case sensitif => A != a</li>\n",
    "    <li>harus diawali huruf atau karakter _(underscore)</li>\n",
    "    <li>Tidak boleh menggunakan spasi</li>\n",
    "    <li>Tidak boleh menggunakan angka</li>\n",
    "</ol>"
   ]
  },
  {
   "cell_type": "code",
   "execution_count": 24,
   "id": "f38c42e1",
   "metadata": {},
   "outputs": [
    {
     "name": "stdout",
     "output_type": "stream",
     "text": [
      "10\n",
      "100.9\n",
      "1\n",
      "True\n",
      "10.9\n"
     ]
    }
   ],
   "source": [
    "data_int = 10\n",
    "data_float = 100.9\n",
    "data_string = '1'\n",
    "data_bool = True\n",
    "data_double = 10.9\n",
    "\n",
    "print(data_int)\n",
    "print(data_float)\n",
    "print(data_string)\n",
    "print(data_bool)\n",
    "print(data_double)"
   ]
  },
  {
   "cell_type": "markdown",
   "id": "ca814507",
   "metadata": {},
   "source": [
    "Untuk mengetahui tipe data dari sebuah variabel gunakan command <b>type</b>"
   ]
  },
  {
   "cell_type": "code",
   "execution_count": 23,
   "id": "28a912b2",
   "metadata": {},
   "outputs": [
    {
     "name": "stdout",
     "output_type": "stream",
     "text": [
      "<class 'int'>\n",
      "<class 'float'>\n",
      "<class 'str'>\n",
      "<class 'bool'>\n",
      "<class 'float'>\n"
     ]
    }
   ],
   "source": [
    "print(type(data_int))\n",
    "print(type(data_float))\n",
    "print(type(data_string))\n",
    "print(type(data_bool))\n",
    "print(type(data_double))"
   ]
  },
  {
   "cell_type": "markdown",
   "id": "1debd70f",
   "metadata": {},
   "source": [
    "Pada Python terdapat proses <b>casting</b> yaitu konversi dari sebuah tipe data ke tipe data yang lain yaitu dengan sintaks <b>tipe_data(nama_variabel)</b>"
   ]
  },
  {
   "cell_type": "code",
   "execution_count": 16,
   "id": "7a91f611",
   "metadata": {},
   "outputs": [
    {
     "name": "stdout",
     "output_type": "stream",
     "text": [
      "Nilai variable data_int= 10\n",
      "10.0\n",
      "10\n",
      "True\n"
     ]
    }
   ],
   "source": [
    "int_to_float = float(data_int)\n",
    "int_to_string = str(data_int)\n",
    "int_to_bool = bool(data_int)\n",
    "\n",
    "print(\"Nilai variable data_int=\",data_int)\n",
    "print(int_to_float)\n",
    "print(int_to_string)\n",
    "print(int_to_bool)"
   ]
  },
  {
   "cell_type": "code",
   "execution_count": 25,
   "id": "7261f21b",
   "metadata": {},
   "outputs": [
    {
     "name": "stdout",
     "output_type": "stream",
     "text": [
      "Nilai variable data_string= 1\n",
      "1\n",
      "1.0\n",
      "True\n"
     ]
    }
   ],
   "source": [
    "str_to_int = int(data_string)\n",
    "str_to_float = float(data_string)\n",
    "str_to_bool = bool(data_string)\n",
    "\n",
    "print(\"Nilai variable data_string=\",data_string)\n",
    "print(str_to_int)\n",
    "print(str_to_float)\n",
    "print(str_to_bool)"
   ]
  },
  {
   "cell_type": "code",
   "execution_count": 27,
   "id": "93f6063d",
   "metadata": {},
   "outputs": [
    {
     "name": "stdout",
     "output_type": "stream",
     "text": [
      "Nilai variabel data_float= 100.9\n",
      "100\n",
      "100.9\n",
      "True\n"
     ]
    }
   ],
   "source": [
    "float_to_int = int(data_float)\n",
    "float_to_str = str(data_float)\n",
    "float_to_bool = bool(data_float)\n",
    "\n",
    "print(\"Nilai variabel data_float=\",data_float)\n",
    "print(float_to_int)\n",
    "print(float_to_str)\n",
    "print(float_to_bool)"
   ]
  },
  {
   "cell_type": "code",
   "execution_count": 30,
   "id": "a9fb9f91",
   "metadata": {},
   "outputs": [
    {
     "name": "stdout",
     "output_type": "stream",
     "text": [
      "Nilai variable data_bool= True\n",
      "1\n",
      "True\n",
      "1.0\n"
     ]
    }
   ],
   "source": [
    "bool_to_int = int(data_bool)\n",
    "bool_to_str = str(data_bool)\n",
    "bool_to_float = float(data_bool)\n",
    "\n",
    "print(\"Nilai variable data_bool=\",data_bool)\n",
    "print(bool_to_int)\n",
    "print(bool_to_str)\n",
    "print(bool_to_float)"
   ]
  },
  {
   "cell_type": "code",
   "execution_count": 36,
   "id": "2086f1fd",
   "metadata": {},
   "outputs": [
    {
     "name": "stdout",
     "output_type": "stream",
     "text": [
      "Isikan bilangan 181\n",
      "Isikan bilangan 29\n",
      "Hasil Penjumlahan 90\n",
      "Hasil Pembagian 9.0\n"
     ]
    }
   ],
   "source": [
    "bil1 = int(input(\"Isikan bilangan 1\"))\n",
    "bil2 = int(input(\"Isikan bilangan 2\"))\n",
    "hasil_tambah = bil1 + bil2\n",
    "hasil_bagi = bil1 / bil2 \n",
    "print(\"Hasil Penjumlahan\",hasil_tambah)\n",
    "print(\"Hasil Pembagian\",hasil_bagi)\n"
   ]
  }
 ],
 "metadata": {
  "kernelspec": {
   "display_name": "Python 3 (ipykernel)",
   "language": "python",
   "name": "python3"
  },
  "language_info": {
   "codemirror_mode": {
    "name": "ipython",
    "version": 3
   },
   "file_extension": ".py",
   "mimetype": "text/x-python",
   "name": "python",
   "nbconvert_exporter": "python",
   "pygments_lexer": "ipython3",
   "version": "3.9.12"
  }
 },
 "nbformat": 4,
 "nbformat_minor": 5
}
